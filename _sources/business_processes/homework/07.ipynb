{
 "cells": [
  {
   "cell_type": "markdown",
   "id": "8bfb4cb3",
   "metadata": {},
   "source": [
    "(business_processes/homework/7)=\n",
    "# Домашнее задание 7."
   ]
  }
 ],
 "metadata": {
  "jupytext": {
   "text_representation": {
    "extension": ".md",
    "format_name": "myst"
   }
  },
  "kernelspec": {
   "display_name": "Python 3",
   "language": "python",
   "name": "python3"
  },
  "source_map": [
   10
  ]
 },
 "nbformat": 4,
 "nbformat_minor": 5
}
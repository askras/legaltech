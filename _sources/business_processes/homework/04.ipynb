{
 "cells": [
  {
   "cell_type": "markdown",
   "id": "4097269e",
   "metadata": {},
   "source": [
    "(business_processes/homework/4)=\n",
    "# Домашнее задание 4."
   ]
  }
 ],
 "metadata": {
  "jupytext": {
   "text_representation": {
    "extension": ".md",
    "format_name": "myst"
   }
  },
  "kernelspec": {
   "display_name": "Python 3",
   "language": "python",
   "name": "python3"
  },
  "source_map": [
   10
  ]
 },
 "nbformat": 4,
 "nbformat_minor": 5
}
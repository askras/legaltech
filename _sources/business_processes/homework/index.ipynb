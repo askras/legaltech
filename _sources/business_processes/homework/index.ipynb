{
 "cells": [
  {
   "cell_type": "markdown",
   "id": "7c3e1029",
   "metadata": {},
   "source": [
    "(business_processes/homework/index)=\n",
    "# Домашние задания\n",
    "\n",
    ":::{tableofcontents}\n",
    ":::"
   ]
  }
 ],
 "metadata": {
  "jupytext": {
   "text_representation": {
    "extension": ".md",
    "format_name": "myst"
   }
  },
  "kernelspec": {
   "display_name": "Python 3",
   "language": "python",
   "name": "python3"
  },
  "source_map": [
   10
  ]
 },
 "nbformat": 4,
 "nbformat_minor": 5
}
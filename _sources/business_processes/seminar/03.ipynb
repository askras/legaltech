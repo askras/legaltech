{
 "cells": [
  {
   "cell_type": "markdown",
   "id": "a5f22e71",
   "metadata": {},
   "source": [
    "(business_processes/seminar/3)=\n",
    "# Практическое занятие 3.  Методологии анализа бизнес-процессов.\n",
    "\n",
    "# Содержание:\n",
    "1. Методология структурного анализа и проектирования SADT.\n",
    "2. Методология ARIS (Architecture of Integrated Information Systems).\n",
    "3. Структурные модели унифицированного языка UML (Unified Model Language)."
   ]
  },
  {
   "cell_type": "markdown",
   "id": "e706ec41",
   "metadata": {
    "editable": true,
    "slideshow": {
     "slide_type": "slide"
    }
   },
   "source": [
    "## Опрос по материалам лекции\n",
    "\n",
    "1."
   ]
  },
  {
   "cell_type": "markdown",
   "id": "7abc1100",
   "metadata": {
    "editable": true,
    "slideshow": {
     "slide_type": "slide"
    }
   },
   "source": [
    "## Решение задач"
   ]
  },
  {
   "cell_type": "markdown",
   "id": "2f515a33",
   "metadata": {
    "editable": true,
    "slideshow": {
     "slide_type": "slide"
    }
   },
   "source": [
    "### Задача 1. &laquo;&raquo;\n",
    "\n",
    "#### Условие\n",
    "Разработайте\n",
    "\n",
    "#### Задание\n",
    "1. Нарисовать блок-схему.\n",
    "2. Написать псевдокод.\n",
    "3. Предложить тестовые кейсы."
   ]
  },
  {
   "cell_type": "markdown",
   "id": "29c6bc04",
   "metadata": {
    "editable": true,
    "slideshow": {
     "slide_type": "slide"
    }
   },
   "source": [
    "### Задача 2. &laquo;&raquo;\n",
    "\n",
    "#### Условие\n",
    "Создайте\n",
    "\n",
    "#### Задание\n",
    "1. Нарисовать блок-схему.\n",
    "2. Написать псевдокод.\n",
    "3. Предложить тестовые кейсы."
   ]
  },
  {
   "cell_type": "markdown",
   "id": "c3be03dc",
   "metadata": {
    "editable": true,
    "slideshow": {
     "slide_type": "slide"
    }
   },
   "source": [
    "### Задача 3. &laquo;&raquo;\n",
    "\n",
    "#### Условие\n",
    "Модифицируйте\n",
    "\n",
    "#### Задание\n",
    "1. Нарисовать блок-схему.\n",
    "2. Написать псевдокод.\n",
    "3. Предложить тестовые кейсы."
   ]
  },
  {
   "cell_type": "markdown",
   "id": "9aeabf8f",
   "metadata": {
    "editable": true,
    "slideshow": {
     "slide_type": "slide"
    }
   },
   "source": [
    "## Вопросы для обсуждения\n",
    "1."
   ]
  },
  {
   "cell_type": "markdown",
   "id": "81e47a1c",
   "metadata": {
    "editable": true,
    "slideshow": {
     "slide_type": "slide"
    }
   },
   "source": [
    "## Домашнее задание\n",
    "1.\n",
    "\n",
    "### Критерии оценки\n",
    "- Полнота выполнения ДЗ\n",
    "- Корректность тестов\n",
    "- Творческий подход"
   ]
  },
  {
   "cell_type": "markdown",
   "id": "038b9ef7",
   "metadata": {
    "editable": true,
    "slideshow": {
     "slide_type": "slide"
    }
   },
   "source": [
    "## Вопросы для самопроверки\n",
    "Используя материалы лекции, рекомендованную литературу и результаты предыдущих практических занятий:\n",
    "1. Объяснять разницу между тремя способами описания бизнес-процессов.\n",
    "2. Сделать выбор одного из трех способов для описания выбранного юридического процесса."
   ]
  }
 ],
 "metadata": {
  "jupytext": {
   "text_representation": {
    "extension": ".md",
    "format_name": "myst"
   }
  },
  "kernelspec": {
   "display_name": "Python 3",
   "language": "python",
   "name": "python3"
  },
  "source_map": [
   10,
   21,
   27,
   31,
   43,
   55,
   67,
   72,
   82
  ]
 },
 "nbformat": 4,
 "nbformat_minor": 5
}
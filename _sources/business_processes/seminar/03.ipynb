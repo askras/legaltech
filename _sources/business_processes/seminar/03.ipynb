{
 "cells": [
  {
   "cell_type": "markdown",
   "id": "dcddc962",
   "metadata": {},
   "source": [
    "(business_processes/seminar/3)=\n",
    "# Практическое занятие 3.  Методологии анализа бизнес-процессов.\n",
    "\n",
    "# Содержание:\n",
    "1. Методология структурного анализа и проектирования SADT.\n",
    "2. Методология ARIS (Architecture of Integrated Information Systems).\n",
    "3. Структурные модели унифицированного языка UML (Unified Model Language).\n",
    "\n",
    "## Задания для подготовки:\n",
    "Используя материалы лекции, рекомендованную литературу и результаты предыдущих практических занятий:\n",
    "1. Объяснять разницу между тремя способами описания бизнес-процессов.\n",
    "2. Сделать выбор одного из трех способов для описания выбранного юридического процесса."
   ]
  }
 ],
 "metadata": {
  "jupytext": {
   "text_representation": {
    "extension": ".md",
    "format_name": "myst"
   }
  },
  "kernelspec": {
   "display_name": "Python 3",
   "language": "python",
   "name": "python3"
  },
  "source_map": [
   10
  ]
 },
 "nbformat": 4,
 "nbformat_minor": 5
}
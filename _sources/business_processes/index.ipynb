{
 "cells": [
  {
   "cell_type": "markdown",
   "id": "12d2f786",
   "metadata": {},
   "source": [
    "(business_processes/index)=\n",
    "# Анализ и моделирование бизнес-процессов\n",
    "\n",
    "Материалы по курсу &laquo;Анализ и моделирование бизнес-процессов&raquo;\n",
    "\n",
    ":::{tableofcontents}\n",
    ":::"
   ]
  }
 ],
 "metadata": {
  "jupytext": {
   "text_representation": {
    "extension": ".md",
    "format_name": "myst"
   }
  },
  "kernelspec": {
   "display_name": "Python 3",
   "language": "python",
   "name": "python3"
  },
  "source_map": [
   10
  ]
 },
 "nbformat": 4,
 "nbformat_minor": 5
}
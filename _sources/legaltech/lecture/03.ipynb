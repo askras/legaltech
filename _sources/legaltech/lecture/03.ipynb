{
 "cells": [
  {
   "cell_type": "markdown",
   "id": "ae8bcfbd",
   "metadata": {},
   "source": [
    "(legaltech/lecture/3)=\n",
    "# Лекция 3. Отдельные технологии и системы в составе информационно-технологического обеспечения юридической деятельности: технологические и правовые вопросы.\n",
    "\n",
    "## Содержание:\n",
    "1. Современное состояние и возможности использования LawTech.\n",
    "2. Современное состояние и возможности использования в юридической деятельности LegalDesign.\n",
    "\n",
    "## Задания для подготовки\n",
    "1. Привести примеры отечественных информационных систем LawTech.\n",
    "2. Охарактеризовать соотношение терминов юридический дизайн, юридическое письмо, Legal Design, Legal Design Thinking. Какую ценность несет в себе использование методов Legal Design в суде?"
   ]
  }
 ],
 "metadata": {
  "jupytext": {
   "text_representation": {
    "extension": ".md",
    "format_name": "myst"
   }
  },
  "kernelspec": {
   "display_name": "Python 3",
   "language": "python",
   "name": "python3"
  },
  "source_map": [
   10
  ]
 },
 "nbformat": 4,
 "nbformat_minor": 5
}
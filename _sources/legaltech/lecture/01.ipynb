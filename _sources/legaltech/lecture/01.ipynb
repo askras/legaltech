{
 "cells": [
  {
   "cell_type": "markdown",
   "id": "1aba4c2d",
   "metadata": {},
   "source": [
    "(legaltech/lecture/1)=\n",
    "# Лекция 1. Понятие и направления развития LegalTech в России.\n",
    "\n",
    "## Содержание:\n",
    "1. Понятие и признаки LegalTech.\n",
    "2. История развития LegalTech.\n",
    "3. Классификация технологий в составе LegalTech.\n",
    "4. Направления развития LegalTech.\n",
    "5. Правовое регулирование сферы LegalTech в России.\n",
    "\n",
    "## Задания для подготовки:\n",
    "1. Что такое LegalTech?\n",
    "2. Указать основные этапы формирования сферы LegalTech.\n",
    "3. Назвать основные типы и виды LegalTech-решений.\n",
    "4. В чем особенности правового регулирования LegalTech?\n",
    "5. Охарактеризовать потенциал использования информационных технологий в юриспруденции?\n",
    "6. Перечислить основные нормативные правовые акты в сфере LegalTech."
   ]
  }
 ],
 "metadata": {
  "jupytext": {
   "text_representation": {
    "extension": ".md",
    "format_name": "myst"
   }
  },
  "kernelspec": {
   "display_name": "Python 3",
   "language": "python",
   "name": "python3"
  },
  "source_map": [
   10
  ]
 },
 "nbformat": 4,
 "nbformat_minor": 5
}
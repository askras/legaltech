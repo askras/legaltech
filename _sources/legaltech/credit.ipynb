{
 "cells": [
  {
   "cell_type": "markdown",
   "id": "dd0d9888",
   "metadata": {},
   "source": [
    "(legaltech/credit)=\n",
    "# Зачет\n",
    "\n",
    "## Темы для подготовки к зачету\n",
    "\n",
    "Для успешной сдачи зачета слушателю необходимо подготовить краткую устную презентацию, отражающую конкретный юридический процесс и программные средства его автоматизации."
   ]
  }
 ],
 "metadata": {
  "jupytext": {
   "text_representation": {
    "extension": ".md",
    "format_name": "myst"
   }
  },
  "kernelspec": {
   "display_name": "Python 3",
   "language": "python",
   "name": "python3"
  },
  "source_map": [
   10
  ]
 },
 "nbformat": 4,
 "nbformat_minor": 5
}
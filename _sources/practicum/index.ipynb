{
 "cells": [
  {
   "cell_type": "markdown",
   "id": "24775d8e",
   "metadata": {},
   "source": [
    "(practicum/index)=\n",
    "# Практикум (итоговый проект)\n",
    "\n",
    "Материалы по практикуму (итоговому проекту)\n",
    "\n",
    ":::{tableofcontents}\n",
    ":::"
   ]
  }
 ],
 "metadata": {
  "jupytext": {
   "text_representation": {
    "extension": ".md",
    "format_name": "myst"
   }
  },
  "kernelspec": {
   "display_name": "Python 3",
   "language": "python",
   "name": "python3"
  },
  "source_map": [
   10
  ]
 },
 "nbformat": 4,
 "nbformat_minor": 5
}
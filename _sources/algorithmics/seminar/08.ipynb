{
 "cells": [
  {
   "cell_type": "markdown",
   "id": "1c49cddf",
   "metadata": {},
   "source": [
    "(algorithmics/seminar/8)=\n",
    "# Практическое занятие 8. Алгоритмы сортировки.\n",
    "\n",
    "## Содержание:\n",
    "1. Понятие массива данных\n",
    "2. Понятие сортировки\n",
    "3. Сортировка пузырьком (Bubble Sort)\n",
    "4. Шейкерная сортировка\n",
    "5. Сортировка расческой\n",
    "6. Сортировка вставками (Insertion Sort)\n",
    "7. Сортировка выбором (Selection Sort).\n",
    "8. Сортировка слиянием\n",
    "9. Быстрая сортировка\n",
    "10. Пирамидальная сортировка (Сортировка кучей)\n",
    "\n",
    "## Задание для подготовки:\n",
    "1. Найдите в учебной литературе информацию об эффективности различных видов сортировки."
   ]
  }
 ],
 "metadata": {
  "jupytext": {
   "text_representation": {
    "extension": ".md",
    "format_name": "myst"
   }
  },
  "kernelspec": {
   "display_name": "Python 3",
   "language": "python",
   "name": "python3"
  },
  "source_map": [
   10
  ]
 },
 "nbformat": 4,
 "nbformat_minor": 5
}
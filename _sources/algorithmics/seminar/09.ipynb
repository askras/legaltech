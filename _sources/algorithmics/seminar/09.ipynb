{
 "cells": [
  {
   "cell_type": "markdown",
   "id": "96cc7948",
   "metadata": {},
   "source": [
    "(algorithmics/seminar/9)=\n",
    "# Практическое занятие 9. Основы теории графов и алгоритмы управления.\n",
    "\n",
    "## Содержание:\n",
    "1. Понятие и виды графов.\n",
    "2. Графовый анализ.\n",
    "3. Семейства графовых алгоритмов\n",
    "4. Обобщенный графовый поиск (GenericSearch).\n",
    "5. Поиск в ширину (breadth-first search, BFS).\n",
    "6. Поиск в глубину (depth-first search, DFS)\n",
    "7. Алгоритм кратчайшего пути Дейкстры.\n",
    "\n",
    "## Задание для подготовки:\n",
    "1. Рассмотреть дерево целей проекта как граф."
   ]
  }
 ],
 "metadata": {
  "jupytext": {
   "text_representation": {
    "extension": ".md",
    "format_name": "myst"
   }
  },
  "kernelspec": {
   "display_name": "Python 3",
   "language": "python",
   "name": "python3"
  },
  "source_map": [
   10
  ]
 },
 "nbformat": 4,
 "nbformat_minor": 5
}
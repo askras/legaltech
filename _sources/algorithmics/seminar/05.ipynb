{
 "cells": [
  {
   "cell_type": "markdown",
   "id": "7a6d5027",
   "metadata": {},
   "source": [
    "(algorithmics/seminar/5)=\n",
    "# Практическое занятие 5. Данные и величины. Свойства и характеристики величин.\n",
    "\n",
    "## Цель\n",
    "\n",
    "## Рассматриваемые вопросы\n",
    "1. Понятие и типы данных.\n",
    "2. Переменные и константы в алгоритмах.\n",
    "3. Понятие величины. Свойства величины. Имя и значение величины.\n",
    "4. Типы величин.\n",
    "5. Операции над величинами.\n",
    "6. Формализация информации. Алгебра логики\n",
    "7.  Решение задач"
   ]
  },
  {
   "cell_type": "markdown",
   "id": "c5634aa1",
   "metadata": {
    "editable": true,
    "slideshow": {
     "slide_type": "slide"
    }
   },
   "source": [
    "## Опрос по материалам лекции\n",
    "\n",
    "1."
   ]
  },
  {
   "cell_type": "markdown",
   "id": "f072b376",
   "metadata": {
    "editable": true,
    "slideshow": {
     "slide_type": "slide"
    }
   },
   "source": [
    "## Решение задач"
   ]
  },
  {
   "cell_type": "markdown",
   "id": "effb2f6d",
   "metadata": {
    "editable": true,
    "slideshow": {
     "slide_type": "slide"
    }
   },
   "source": [
    "### Задача 1. &laquo;&raquo;\n",
    "\n",
    "#### Условие\n",
    "Разработайте\n",
    "\n",
    "#### Задание\n",
    "1. Нарисовать блок-схему.\n",
    "2. Написать псевдокод.\n",
    "3. Предложить тестовые кейсы."
   ]
  },
  {
   "cell_type": "markdown",
   "id": "c9cdf417",
   "metadata": {
    "editable": true,
    "slideshow": {
     "slide_type": "slide"
    }
   },
   "source": [
    "### Задача 2. &laquo;&raquo;\n",
    "\n",
    "#### Условие\n",
    "Создайте\n",
    "\n",
    "#### Задание\n",
    "1. Нарисовать блок-схему.\n",
    "2. Написать псевдокод.\n",
    "3. Предложить тестовые кейсы."
   ]
  },
  {
   "cell_type": "markdown",
   "id": "de57d5c5",
   "metadata": {
    "editable": true,
    "slideshow": {
     "slide_type": "slide"
    }
   },
   "source": [
    "### Задача 3. &laquo;&raquo;\n",
    "\n",
    "#### Условие\n",
    "Модифицируйте\n",
    "\n",
    "#### Задание\n",
    "1. Нарисовать блок-схему.\n",
    "2. Написать псевдокод.\n",
    "3. Предложить тестовые кейсы."
   ]
  },
  {
   "cell_type": "markdown",
   "id": "bf44e94a",
   "metadata": {
    "editable": true,
    "slideshow": {
     "slide_type": "slide"
    }
   },
   "source": [
    "## Вопросы для обсуждения\n",
    "1."
   ]
  },
  {
   "cell_type": "markdown",
   "id": "c9e5369a",
   "metadata": {
    "editable": true,
    "slideshow": {
     "slide_type": "slide"
    }
   },
   "source": [
    "## Домашнее задание\n",
    "1.\n",
    "\n",
    "### Критерии оценки\n",
    "- Полнота выполнения ДЗ\n",
    "- Корректность тестов\n",
    "- Творческий подход"
   ]
  },
  {
   "cell_type": "markdown",
   "id": "5e392adc",
   "metadata": {
    "editable": true,
    "slideshow": {
     "slide_type": "slide"
    }
   },
   "source": [
    "## Вопросы для самопроверки\n",
    "1. Используя различные источники, в том числе информационные ресурсы сети Интернет, найти информацию о видах данных, составляющих статистическую отчетность юридических организаций, предоставляемую для формирования государственных статистических информационных ресурсов.\n",
    "2. Вспомните основные логические операции над высказываниями, изучаемые в дисциплине &laquo;Логика&raquo;."
   ]
  }
 ],
 "metadata": {
  "jupytext": {
   "text_representation": {
    "extension": ".md",
    "format_name": "myst"
   }
  },
  "kernelspec": {
   "display_name": "Python 3",
   "language": "python",
   "name": "python3"
  },
  "source_map": [
   10,
   27,
   33,
   37,
   49,
   61,
   73,
   78,
   88
  ]
 },
 "nbformat": 4,
 "nbformat_minor": 5
}
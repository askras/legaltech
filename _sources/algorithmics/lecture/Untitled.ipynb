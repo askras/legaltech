{
 "cells": [
  {
   "cell_type": "code",
   "execution_count": 1,
   "id": "d127cc98",
   "metadata": {
    "editable": true,
    "slideshow": {
     "slide_type": ""
    }
   },
   "outputs": [
    {
     "name": "stderr",
     "output_type": "stream",
     "text": [
      "UsageError: Cell magic `%%flowchart_magic` not found.\n"
     ]
    }
   ],
   "source": [
    "%%flowchart_magic -h 100 "
   ]
  },
  {
   "cell_type": "code",
   "execution_count": null,
   "id": "40904ca4",
   "metadata": {
    "editable": true,
    "slideshow": {
     "slide_type": ""
    }
   },
   "outputs": [],
   "source": [
    "%load_ext nb_js_diagrammers"
   ]
  },
  {
   "cell_type": "code",
   "execution_count": null,
   "id": "6bf3c562",
   "metadata": {
    "editable": true,
    "slideshow": {
     "slide_type": ""
    }
   },
   "outputs": [],
   "source": [
    "%%flowchart_magic -h 1000\n",
    "st=>start: Начало\n",
    "in=>inputoutput: Ввод Доход, КоличествоДетей\n",
    "cond=>condition: КоличествоДетей?\n",
    "\n",
    "op1=>operation: 25% от дохода\n",
    "op2=>operation: 33% от дохода\n",
    "op3=>operation: 50% от дохода\n",
    "out=>inputoutput: Вывод алиментов\n",
    "e=>end: Конец\n",
    "\n",
    "st->in->cond\n",
    "cond()->op1->out->e\n",
    "cond(2)->op2->out->e\n",
    "cond(3)->op3->out->e"
   ]
  },
  {
   "cell_type": "code",
   "execution_count": null,
   "id": "2129cb9e",
   "metadata": {
    "editable": true,
    "slideshow": {
     "slide_type": ""
    }
   },
   "outputs": [],
   "source": []
  }
 ],
 "metadata": {
  "jupytext": {
   "text_representation": {
    "extension": ".md",
    "format_name": "myst",
    "format_version": 0.13,
    "jupytext_version": "1.16.7"
   }
  },
  "kernelspec": {
   "display_name": "Python 3 (ipykernel)",
   "language": "python",
   "name": "python3"
  },
  "language_info": {
   "codemirror_mode": {
    "name": "ipython",
    "version": 3
   },
   "file_extension": ".py",
   "mimetype": "text/x-python",
   "name": "python",
   "nbconvert_exporter": "python",
   "pygments_lexer": "ipython3",
   "version": "3.12.9"
  },
  "source_map": [
   14,
   23,
   32,
   55
  ]
 },
 "nbformat": 4,
 "nbformat_minor": 5
}
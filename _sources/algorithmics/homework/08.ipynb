{
 "cells": [
  {
   "cell_type": "markdown",
   "id": "03547b2d",
   "metadata": {},
   "source": [
    "(algorithmics/homework/8)=\n",
    "# Домашнее задание 8."
   ]
  }
 ],
 "metadata": {
  "jupytext": {
   "text_representation": {
    "extension": ".md",
    "format_name": "myst"
   }
  },
  "kernelspec": {
   "display_name": "Python 3",
   "language": "python",
   "name": "python3"
  },
  "source_map": [
   10
  ]
 },
 "nbformat": 4,
 "nbformat_minor": 5
}
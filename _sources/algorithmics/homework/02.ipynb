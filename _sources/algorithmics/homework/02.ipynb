{
 "cells": [
  {
   "cell_type": "markdown",
   "id": "bf7dbd75",
   "metadata": {},
   "source": [
    "(algorithmics/homework/2)=\n",
    "# Домашнее задание 2."
   ]
  }
 ],
 "metadata": {
  "jupytext": {
   "text_representation": {
    "extension": ".md",
    "format_name": "myst"
   }
  },
  "kernelspec": {
   "display_name": "Python 3",
   "language": "python",
   "name": "python3"
  },
  "source_map": [
   10
  ]
 },
 "nbformat": 4,
 "nbformat_minor": 5
}
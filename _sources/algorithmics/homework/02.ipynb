{
 "cells": [
  {
   "cell_type": "markdown",
   "id": "3b050afc",
   "metadata": {},
   "source": [
    "(algorithmics/homework/2)=\n",
    "# Домашнее задание 2."
   ]
  }
 ],
 "metadata": {
  "jupytext": {
   "text_representation": {
    "extension": ".md",
    "format_name": "myst"
   }
  },
  "kernelspec": {
   "display_name": "Python 3",
   "language": "python",
   "name": "python3"
  },
  "source_map": [
   10
  ]
 },
 "nbformat": 4,
 "nbformat_minor": 5
}
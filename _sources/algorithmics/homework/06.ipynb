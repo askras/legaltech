{
 "cells": [
  {
   "cell_type": "markdown",
   "id": "d83997d6",
   "metadata": {},
   "source": [
    "(algorithmics/homework/6)=\n",
    "# Домашнее задание 6."
   ]
  }
 ],
 "metadata": {
  "jupytext": {
   "text_representation": {
    "extension": ".md",
    "format_name": "myst"
   }
  },
  "kernelspec": {
   "display_name": "Python 3",
   "language": "python",
   "name": "python3"
  },
  "source_map": [
   10
  ]
 },
 "nbformat": 4,
 "nbformat_minor": 5
}
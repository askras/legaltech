{
 "cells": [
  {
   "cell_type": "markdown",
   "id": "ff943d1d",
   "metadata": {},
   "source": [
    "(algorithmics/homework/1)=\n",
    "# Домашнее задание 1."
   ]
  }
 ],
 "metadata": {
  "jupytext": {
   "text_representation": {
    "extension": ".md",
    "format_name": "myst"
   }
  },
  "kernelspec": {
   "display_name": "Python 3",
   "language": "python",
   "name": "python3"
  },
  "source_map": [
   10
  ]
 },
 "nbformat": 4,
 "nbformat_minor": 5
}
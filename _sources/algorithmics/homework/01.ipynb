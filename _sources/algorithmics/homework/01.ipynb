{
 "cells": [
  {
   "cell_type": "markdown",
   "id": "6dba6feb",
   "metadata": {},
   "source": [
    "(algorithmics/homework/1)=\n",
    "# Домашнее задание 1."
   ]
  }
 ],
 "metadata": {
  "jupytext": {
   "text_representation": {
    "extension": ".md",
    "format_name": "myst"
   }
  },
  "kernelspec": {
   "display_name": "Python 3",
   "language": "python",
   "name": "python3"
  },
  "source_map": [
   10
  ]
 },
 "nbformat": 4,
 "nbformat_minor": 5
}
{
 "cells": [
  {
   "cell_type": "markdown",
   "id": "e17cda0a",
   "metadata": {},
   "source": [
    "(algorithmics/homework/index)=\n",
    "# Домашние задания\n",
    "\n",
    "Подготовка к выполнению заданий обучающимися очной формы обучения предусматривает следующую самостоятельную работу:\n",
    "- ознакомление с заданием на практическое занятие;\n",
    "- выбор средств и способов решения конкретной задачи;\n",
    "- формулирование вопросов для обсуждения в начале практического занятия.\n",
    "\n",
    ":::{tableofcontents}\n",
    ":::"
   ]
  }
 ],
 "metadata": {
  "jupytext": {
   "text_representation": {
    "extension": ".md",
    "format_name": "myst"
   }
  },
  "kernelspec": {
   "display_name": "Python 3",
   "language": "python",
   "name": "python3"
  },
  "source_map": [
   10
  ]
 },
 "nbformat": 4,
 "nbformat_minor": 5
}
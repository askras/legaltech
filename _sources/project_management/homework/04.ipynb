{
 "cells": [
  {
   "cell_type": "markdown",
   "id": "bf9e76ff",
   "metadata": {},
   "source": [
    "(project_management/homework/4)=\n",
    "# Домашнее задание 4."
   ]
  }
 ],
 "metadata": {
  "jupytext": {
   "text_representation": {
    "extension": ".md",
    "format_name": "myst"
   }
  },
  "kernelspec": {
   "display_name": "Python 3",
   "language": "python",
   "name": "python3"
  },
  "source_map": [
   10
  ]
 },
 "nbformat": 4,
 "nbformat_minor": 5
}
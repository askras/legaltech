{
 "cells": [
  {
   "cell_type": "markdown",
   "id": "dc30e5aa",
   "metadata": {},
   "source": [
    "(project_management/homework/index)=\n",
    "# Домашние задания\n",
    "\n",
    ":::{tableofcontents}\n",
    ":::"
   ]
  }
 ],
 "metadata": {
  "jupytext": {
   "text_representation": {
    "extension": ".md",
    "format_name": "myst"
   }
  },
  "kernelspec": {
   "display_name": "Python 3",
   "language": "python",
   "name": "python3"
  },
  "source_map": [
   10
  ]
 },
 "nbformat": 4,
 "nbformat_minor": 5
}
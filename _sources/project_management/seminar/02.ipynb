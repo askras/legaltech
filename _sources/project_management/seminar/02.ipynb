{
 "cells": [
  {
   "cell_type": "markdown",
   "id": "60afcf70",
   "metadata": {},
   "source": [
    "(project_management/seminar/2)=\n",
    "# Практическое занятие 2. Основные положения управления IТ-проектами.\n",
    "\n",
    "## Цель\n",
    "\n",
    "## Рассматриваемые вопросы\n",
    "1. Основные положения и общая характеристика методов и моделей управления IТ-проектом.\n",
    "2. Основные понятия и положения управления IТ-проектами."
   ]
  },
  {
   "cell_type": "markdown",
   "id": "7a734960",
   "metadata": {
    "editable": true,
    "slideshow": {
     "slide_type": "slide"
    }
   },
   "source": [
    "## Опрос по материалам лекции\n",
    "\n",
    "1."
   ]
  },
  {
   "cell_type": "markdown",
   "id": "48f2dfe3",
   "metadata": {
    "editable": true,
    "slideshow": {
     "slide_type": "slide"
    }
   },
   "source": [
    "## Решение задач"
   ]
  },
  {
   "cell_type": "markdown",
   "id": "939fb7e7",
   "metadata": {
    "editable": true,
    "slideshow": {
     "slide_type": "slide"
    }
   },
   "source": [
    "### Задача 1. &laquo;&raquo;\n",
    "\n",
    "#### Условие\n",
    "Разработайте\n",
    "\n",
    "#### Задание\n",
    "1. Нарисовать блок-схему.\n",
    "2. Написать псевдокод.\n",
    "3. Предложить тестовые кейсы."
   ]
  },
  {
   "cell_type": "markdown",
   "id": "f3530c34",
   "metadata": {
    "editable": true,
    "slideshow": {
     "slide_type": "slide"
    }
   },
   "source": [
    "### Задача 2. &laquo;&raquo;\n",
    "\n",
    "#### Условие\n",
    "Создайте\n",
    "\n",
    "#### Задание\n",
    "1. Нарисовать блок-схему.\n",
    "2. Написать псевдокод.\n",
    "3. Предложить тестовые кейсы."
   ]
  },
  {
   "cell_type": "markdown",
   "id": "ae869347",
   "metadata": {
    "editable": true,
    "slideshow": {
     "slide_type": "slide"
    }
   },
   "source": [
    "### Задача 3. &laquo;&raquo;\n",
    "\n",
    "#### Условие\n",
    "Модифицируйте\n",
    "\n",
    "#### Задание\n",
    "1. Нарисовать блок-схему.\n",
    "2. Написать псевдокод.\n",
    "3. Предложить тестовые кейсы."
   ]
  },
  {
   "cell_type": "markdown",
   "id": "20c46b21",
   "metadata": {
    "editable": true,
    "slideshow": {
     "slide_type": "slide"
    }
   },
   "source": [
    "## Вопросы для обсуждения\n",
    "1."
   ]
  },
  {
   "cell_type": "markdown",
   "id": "091b166d",
   "metadata": {
    "editable": true,
    "slideshow": {
     "slide_type": "slide"
    }
   },
   "source": [
    "## Домашнее задание\n",
    "1.\n",
    "\n",
    "### Критерии оценки\n",
    "- Полнота выполнения ДЗ\n",
    "- Корректность тестов\n",
    "- Творческий подход"
   ]
  },
  {
   "cell_type": "markdown",
   "id": "6cae7f7c",
   "metadata": {
    "editable": true,
    "slideshow": {
     "slide_type": "slide"
    }
   },
   "source": [
    "## Вопросы для самопроверки\n",
    "Используя материалы лекции и рекомендованную литературу:\n",
    "1. Охарактеризовать известные методы и модели управления IТ-проектом.\n",
    "2. Выполнить классификацию проектов по различным критериям. Привести примеры проектов для каждого сформированного класса.\n",
    "3. Провести аналитическую работу по определению класса группового проекта, выбору метода и модели управления групповым проектом."
   ]
  }
 ],
 "metadata": {
  "jupytext": {
   "text_representation": {
    "extension": ".md",
    "format_name": "myst"
   }
  },
  "kernelspec": {
   "display_name": "Python 3",
   "language": "python",
   "name": "python3"
  },
  "source_map": [
   10,
   21,
   27,
   31,
   43,
   55,
   67,
   72,
   82
  ]
 },
 "nbformat": 4,
 "nbformat_minor": 5
}
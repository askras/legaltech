{
 "cells": [
  {
   "cell_type": "markdown",
   "id": "ba62b4ec",
   "metadata": {},
   "source": [
    "(project_management/seminar/6)=\n",
    "# Практическое занятие 6. Cубъекты управления разработкой IТ-проекта.\n",
    "\n",
    "## Содержание:\n",
    "1. Субъекты: участники и заинтересованные стороны IТ-проекта.\n",
    "2. Основные проектные роли, функции и интересы.\n",
    "\n",
    "## Задания для подготовки:\n",
    "Используя материалы лекции, рекомендованную литературу и результаты предыдущих практических занятий:\n",
    "1. Дать характеристику субъектам процесса управления IТ-проектов."
   ]
  }
 ],
 "metadata": {
  "jupytext": {
   "text_representation": {
    "extension": ".md",
    "format_name": "myst"
   }
  },
  "kernelspec": {
   "display_name": "Python 3",
   "language": "python",
   "name": "python3"
  },
  "source_map": [
   10
  ]
 },
 "nbformat": 4,
 "nbformat_minor": 5
}
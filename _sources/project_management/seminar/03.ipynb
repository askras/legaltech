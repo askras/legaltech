{
 "cells": [
  {
   "cell_type": "markdown",
   "id": "d2b787b7",
   "metadata": {},
   "source": [
    "(project_management/seminar/3)=\n",
    "# Практическое занятие 3. Стандарты по управлению IТ-проектами.\n",
    "\n",
    "## Цель\n",
    "\n",
    "## Рассматриваемые вопросы\n",
    "1. Система стандартов по управлению IТ-проектами, программами и портфелями проектов.\n",
    "2. Роль стандартов в управлении IТ-проектами."
   ]
  },
  {
   "cell_type": "markdown",
   "id": "c8896f8e",
   "metadata": {
    "editable": true,
    "slideshow": {
     "slide_type": "slide"
    }
   },
   "source": [
    "## Опрос по материалам лекции\n",
    "\n",
    "1."
   ]
  },
  {
   "cell_type": "markdown",
   "id": "0a91352a",
   "metadata": {
    "editable": true,
    "slideshow": {
     "slide_type": "slide"
    }
   },
   "source": [
    "## Решение задач"
   ]
  },
  {
   "cell_type": "markdown",
   "id": "a0f6ec3f",
   "metadata": {
    "editable": true,
    "slideshow": {
     "slide_type": "slide"
    }
   },
   "source": [
    "### Задача 1. &laquo;&raquo;\n",
    "\n",
    "#### Условие\n",
    "Разработайте\n",
    "\n",
    "#### Задание\n",
    "1. Нарисовать блок-схему.\n",
    "2. Написать псевдокод.\n",
    "3. Предложить тестовые кейсы."
   ]
  },
  {
   "cell_type": "markdown",
   "id": "1b024991",
   "metadata": {
    "editable": true,
    "slideshow": {
     "slide_type": "slide"
    }
   },
   "source": [
    "### Задача 2. &laquo;&raquo;\n",
    "\n",
    "#### Условие\n",
    "Создайте\n",
    "\n",
    "#### Задание\n",
    "1. Нарисовать блок-схему.\n",
    "2. Написать псевдокод.\n",
    "3. Предложить тестовые кейсы."
   ]
  },
  {
   "cell_type": "markdown",
   "id": "afbeac0a",
   "metadata": {
    "editable": true,
    "slideshow": {
     "slide_type": "slide"
    }
   },
   "source": [
    "### Задача 3. &laquo;&raquo;\n",
    "\n",
    "#### Условие\n",
    "Модифицируйте\n",
    "\n",
    "#### Задание\n",
    "1. Нарисовать блок-схему.\n",
    "2. Написать псевдокод.\n",
    "3. Предложить тестовые кейсы."
   ]
  },
  {
   "cell_type": "markdown",
   "id": "121abc6f",
   "metadata": {
    "editable": true,
    "slideshow": {
     "slide_type": "slide"
    }
   },
   "source": [
    "## Вопросы для обсуждения\n",
    "1."
   ]
  },
  {
   "cell_type": "markdown",
   "id": "36d5e6f4",
   "metadata": {
    "editable": true,
    "slideshow": {
     "slide_type": "slide"
    }
   },
   "source": [
    "## Домашнее задание\n",
    "1.\n",
    "\n",
    "### Критерии оценки\n",
    "- Полнота выполнения ДЗ\n",
    "- Корректность тестов\n",
    "- Творческий подход"
   ]
  },
  {
   "cell_type": "markdown",
   "id": "4837dc93",
   "metadata": {
    "editable": true,
    "slideshow": {
     "slide_type": "slide"
    }
   },
   "source": [
    "## Вопросы для самопроверки\n",
    "Используя материалы лекции и рекомендованную литературу:\n",
    "1. Ознакомиться с рекомендованными нормативными документами по управлению проектами.\n",
    "2. Определить, каким стандартом руководствуется группа при работе над групповым проектом."
   ]
  }
 ],
 "metadata": {
  "jupytext": {
   "text_representation": {
    "extension": ".md",
    "format_name": "myst"
   }
  },
  "kernelspec": {
   "display_name": "Python 3",
   "language": "python",
   "name": "python3"
  },
  "source_map": [
   10,
   22,
   28,
   32,
   44,
   56,
   68,
   73,
   83
  ]
 },
 "nbformat": 4,
 "nbformat_minor": 5
}
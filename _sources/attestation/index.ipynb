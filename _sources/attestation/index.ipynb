{
 "cells": [
  {
   "cell_type": "markdown",
   "id": "e4e2b439",
   "metadata": {},
   "source": [
    "(attestation/index)=\n",
    "# Итоговая аттестация (защита проекта)\n",
    "\n",
    "Материалы по итоговой аттестации\n",
    "\n",
    ":::{tableofcontents}\n",
    ":::"
   ]
  }
 ],
 "metadata": {
  "jupytext": {
   "text_representation": {
    "extension": ".md",
    "format_name": "myst"
   }
  },
  "kernelspec": {
   "display_name": "Python 3",
   "language": "python",
   "name": "python3"
  },
  "source_map": [
   10
  ]
 },
 "nbformat": 4,
 "nbformat_minor": 5
}
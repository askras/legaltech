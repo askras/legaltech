{
 "cells": [
  {
   "cell_type": "markdown",
   "id": "349d4112",
   "metadata": {},
   "source": [
    "(development_methodologies/seminar/1)=\n",
    "# Практическое занятие 1. Методы разработки программного обеспечения.\n",
    "\n",
    "## Цель\n",
    "\n",
    "## Рассматриваемые вопросы\n",
    "1. Обзор методологий проектирования программных продуктов.\n",
    "2. Технологии разработки программного обеспечения. Преимущества и недостатки различных технологий.\n",
    "3. Работа над проектом разработки программного обеспечения: средства управления проектами, организация коллективной работы над проектом при использовании различных технологий разработки программного продукта."
   ]
  },
  {
   "cell_type": "markdown",
   "id": "15b82bd0",
   "metadata": {
    "editable": true,
    "slideshow": {
     "slide_type": "slide"
    }
   },
   "source": [
    "## Опрос по материалам лекции\n",
    "\n",
    "1."
   ]
  },
  {
   "cell_type": "markdown",
   "id": "b86f6106",
   "metadata": {
    "editable": true,
    "slideshow": {
     "slide_type": "slide"
    }
   },
   "source": [
    "## Решение задач"
   ]
  },
  {
   "cell_type": "markdown",
   "id": "d6997f86",
   "metadata": {
    "editable": true,
    "slideshow": {
     "slide_type": "slide"
    }
   },
   "source": [
    "### Задача 1. &laquo;&raquo;\n",
    "\n",
    "#### Условие\n",
    "Разработайте\n",
    "\n",
    "#### Задание\n",
    "1. Нарисовать блок-схему.\n",
    "2. Написать псевдокод.\n",
    "3. Предложить тестовые кейсы."
   ]
  },
  {
   "cell_type": "markdown",
   "id": "5c35d7dd",
   "metadata": {
    "editable": true,
    "slideshow": {
     "slide_type": "slide"
    }
   },
   "source": [
    "### Задача 2. &laquo;&raquo;\n",
    "\n",
    "#### Условие\n",
    "Создайте\n",
    "\n",
    "#### Задание\n",
    "1. Нарисовать блок-схему.\n",
    "2. Написать псевдокод.\n",
    "3. Предложить тестовые кейсы."
   ]
  },
  {
   "cell_type": "markdown",
   "id": "777374d7",
   "metadata": {
    "editable": true,
    "slideshow": {
     "slide_type": "slide"
    }
   },
   "source": [
    "### Задача 3. &laquo;&raquo;\n",
    "\n",
    "#### Условие\n",
    "Модифицируйте\n",
    "\n",
    "#### Задание\n",
    "1. Нарисовать блок-схему.\n",
    "2. Написать псевдокод.\n",
    "3. Предложить тестовые кейсы."
   ]
  },
  {
   "cell_type": "markdown",
   "id": "3855aa35",
   "metadata": {
    "editable": true,
    "slideshow": {
     "slide_type": "slide"
    }
   },
   "source": [
    "## Вопросы для обсуждения\n",
    "1."
   ]
  },
  {
   "cell_type": "markdown",
   "id": "207adef0",
   "metadata": {
    "editable": true,
    "slideshow": {
     "slide_type": "slide"
    }
   },
   "source": [
    "## Домашнее задание\n",
    "1.\n",
    "\n",
    "### Критерии оценки\n",
    "- Полнота выполнения ДЗ\n",
    "- Корректность тестов\n",
    "- Творческий подход"
   ]
  },
  {
   "cell_type": "markdown",
   "id": "14316c38",
   "metadata": {
    "editable": true,
    "slideshow": {
     "slide_type": "slide"
    }
   },
   "source": [
    "## Вопросы для самопроверки\n",
    "Используя материалы лекций и рекомендованную литературу, а также материалы других дисциплин программы (&laquo;Автоматизация юридической работы&raquo;):\n",
    "1. Объяснять разницу между различными технологиями разработки программного обеспечения.\n",
    "2. Обосновывать выбор различных технологий разработки программного обеспечения."
   ]
  }
 ],
 "metadata": {
  "jupytext": {
   "text_representation": {
    "extension": ".md",
    "format_name": "myst"
   }
  },
  "kernelspec": {
   "display_name": "Python 3",
   "language": "python",
   "name": "python3"
  },
  "source_map": [
   10,
   23,
   29,
   33,
   45,
   57,
   69,
   74,
   84
  ]
 },
 "nbformat": 4,
 "nbformat_minor": 5
}
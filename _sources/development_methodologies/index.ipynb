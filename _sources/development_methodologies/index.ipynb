{
 "cells": [
  {
   "cell_type": "markdown",
   "id": "f69fb12f",
   "metadata": {},
   "source": [
    "(development_methodologies/index)=\n",
    "# Методологии разработки программного обеспечения\n",
    "\n",
    "Материалы по курсу &laquo;Методологии разработки программного обеспечения&raquo;\n",
    "\n",
    ":::{tableofcontents}\n",
    ":::"
   ]
  }
 ],
 "metadata": {
  "jupytext": {
   "text_representation": {
    "extension": ".md",
    "format_name": "myst"
   }
  },
  "kernelspec": {
   "display_name": "Python 3",
   "language": "python",
   "name": "python3"
  },
  "source_map": [
   10
  ]
 },
 "nbformat": 4,
 "nbformat_minor": 5
}